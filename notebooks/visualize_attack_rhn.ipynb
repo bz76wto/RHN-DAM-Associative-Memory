import torch
import matplotlib.pyplot as plt
import torchvision.transforms as transforms
import torchvision.datasets as datasets
from models.rhn import RHN
from attack_rhn import fgsm_attack, pgd_attack, bim_attack, gaussian_noise_attack

# Load trained model
device = torch.device("cuda" if torch.cuda.is_available() else "cpu")
model = RHN(input_size=28*28, hidden_size=256, num_layers=3, output_size=10)
model.load_state_dict(torch.load("rhn_sra_model.pth"))
model.to(device)
model.eval()

# Load dataset
transform = transforms.Compose([transforms.ToTensor()])
test_dataset = datasets.MNIST(root="./data", train=False, transform=transform, download=True)
test_loader = torch.utils.data.DataLoader(test_dataset, batch_size=10, shuffle=True)

# Convert images to numpy for visualization
def to_numpy(tensor):
    return tensor.cpu().detach().squeeze().numpy()

# Get model predictions and confidence scores
def get_prediction(model, image):
    with torch.no_grad():
        output = model(image)
        probs = torch.softmax(output, dim=1)
        confidence, pred_label = torch.max(probs, 1)
    return pred_label.cpu().numpy(), confidence.cpu().numpy()

# Process a batch of images
data_iter = iter(test_loader)
images, labels = next(data_iter)
images, labels = images.to(device), labels.to(device)

# Generate adversarial examples
epsilon = 0.1
alpha = 0.01
iters = 10
fgsm_images = fgsm_attack(model, images, labels, epsilon)
pgd_images = pgd_attack(model, images, labels, epsilon, alpha, iters)
bim_images = bim_attack(model, images, labels, epsilon, alpha, iters)
gaussian_images = gaussian_noise_attack(images, mean=0, std=0.1)

# Get predictions for each image batch
original_preds, original_confs = get_prediction(model, images)
fgsm_preds, fgsm_confs = get_prediction(model, fgsm_images)
pgd_preds, pgd_confs = get_prediction(model, pgd_images)
bim_preds, bim_confs = get_prediction(model, bim_images)
gaussian_preds, gaussian_confs = get_prediction(model, gaussian_images)

# Compute attack success rates
success_fgsm = (original_preds != fgsm_preds).sum() / len(original_preds)
success_pgd = (original_preds != pgd_preds).sum() / len(original_preds)
success_bim = (original_preds != bim_preds).sum() / len(original_preds)
success_gaussian = (original_preds != gaussian_preds).sum() / len(original_preds)

print(f"Attack Success Rate - FGSM: {success_fgsm:.2f}, PGD: {success_pgd:.2f}, BIM: {success_bim:.2f}, Gaussian Noise: {success_gaussian:.2f}")

# Plot original and adversarial images with predictions
fig, axes = plt.subplots(5, len(images), figsize=(12, 10))
titles = ["Original", "FGSM", "PGD", "BIM", "Gaussian"]
all_images = [images, fgsm_images, pgd_images, bim_images, gaussian_images]
all_preds = [original_preds, fgsm_preds, pgd_preds, bim_preds, gaussian_preds]
all_confs = [original_confs, fgsm_confs, pgd_confs, bim_confs, gaussian_confs]

for row in range(5):
    for col in range(len(images)):
        axes[row, col].imshow(to_numpy(all_images[row][col]), cmap='gray')
        axes[row, col].set_title(f'{titles[row]}: {all_preds[row][col]}\nConf: {all_confs[row][col]:.2f}')
        axes[row, col].axis('off')

plt.tight_layout()
plt.show()
